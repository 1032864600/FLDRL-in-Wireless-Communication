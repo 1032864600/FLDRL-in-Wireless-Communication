{
 "cells": [
  {
   "cell_type": "code",
   "execution_count": 21,
   "metadata": {},
   "outputs": [],
   "source": [
    "import random\n",
    "from libs.node import Node\n",
    "from libs.node import Station\n",
    "from libs.node import StationDcf\n",
    "from libs.node import StationRl\n",
    "from libs.channel import Channel\n",
    "from tqdm import tqdm\n",
    "from config import Config\n",
    "import matplotlib.pyplot as plt"
   ]
  },
  {
   "cell_type": "code",
   "execution_count": 22,
   "metadata": {},
   "outputs": [],
   "source": [
    "cfg = Config()\n",
    "global_time = 0\n",
    "channel = Channel(global_time, [])\n",
    "\n",
    "station_num = 1\n",
    "data_rate = 6 #Mbps\n",
    "#All the lengeth is a mutible of slot\n",
    "\n",
    "#incule header\n",
    "pkt_len = 1560\n",
    "#us\n",
    "slot_len = 10\n",
    "sifs = 2\n",
    "ack_len = 2 + sifs\n",
    "difs = 4\n",
    "timeout = ack_len\n",
    "\n",
    "frame_len = pkt_len * 8 / slot_len / data_rate\n",
    "stations_list = []\n",
    "total_time = 0\n",
    "\n",
    "for i in range(station_num):\n",
    "    if cfg.stationType == \"Dcf\":\n",
    "        station = StationDcf(i, frame_len, channel, global_time, i, timeout, ack_len, difs, sifs)\n",
    "    elif cfg.stationType == \"RL\":\n",
    "        station = StationRl(i, frame_len, channel, global_time, i, timeout, ack_len)\n",
    "    stations_list.append(station)"
   ]
  },
  {
   "cell_type": "code",
   "execution_count": 23,
   "metadata": {},
   "outputs": [
    {
     "name": "stderr",
     "output_type": "stream",
     "text": [
      "100%|██████████████████████████████████████████████████████████████████████████| 1000/1000 [00:00<00:00, 143498.03it/s]"
     ]
    },
    {
     "name": "stdout",
     "output_type": "stream",
     "text": [
      "step in send 0 0\n",
      "after in send 0 212.0\n",
      "step in send 212.0 212.0\n",
      "after in send 212.0 424.0\n",
      "step in send 425.0 424.0\n",
      "after in send 425.0 637.0\n",
      "step in send 639.0 637.0\n",
      "after in send 639.0 851.0\n",
      "step in send 851.0 851.0\n",
      "after in send 851.0 1063.0\n",
      "==> total_time: 1040.0\n",
      "==> total_time_channel: 1040.0\n",
      "==> channel time: 1063.0\n",
      "==> throughput: 5.644402634054563\n"
     ]
    },
    {
     "name": "stderr",
     "output_type": "stream",
     "text": [
      "\n"
     ]
    }
   ],
   "source": [
    "for i in tqdm(range(1000)):\n",
    "    for station in stations_list:\n",
    "        station.simulate(global_time)\n",
    "    global_time = global_time + 1\n",
    "    channel.update_state(global_time)\n",
    "\n",
    "    if cfg.shuffleStationList:\n",
    "        random.shuffle(stations_list)\n",
    "\n",
    "for station in stations_list:\n",
    "    total_time += station.total_pkt_time\n",
    "print(\"==> total_time:\", total_time)\n",
    "total_time_channel = 0\n",
    "for i in range(len(channel.start)):\n",
    "    if(i > 0):\n",
    "        if ((channel.start[i] - channel.start[i-1]) < frame_len):\n",
    "            continue\n",
    "    if(i < (len(channel.start)-1)):\n",
    "        if ((channel.start[i + 1] - channel.start[i]) < frame_len):\n",
    "            continue\n",
    "    total_time_channel += frame_len\n",
    "print(\"==> total_time_channel:\", total_time_channel)\n",
    "print(\"==> channel time:\", channel.time)\n",
    "throughput = total_time/channel.time * data_rate * 1500 / 1560\n",
    "print(\"==> throughput:\", throughput)"
   ]
  },
  {
   "cell_type": "code",
   "execution_count": 24,
   "metadata": {},
   "outputs": [
    {
     "name": "stdout",
     "output_type": "stream",
     "text": [
      "[0, 208]\n",
      "[0, 0]\n",
      "[212, 420]\n",
      "[0, 0]\n",
      "[425, 633]\n",
      "[0, 0]\n",
      "[639, 847]\n",
      "[0, 0]\n",
      "[851, 1059]\n",
      "[0, 0]\n"
     ]
    },
    {
     "data": {
      "image/png": "[encoded data removed]",
      "text/plain": [
       "<Figure size 432x288 with 1 Axes>"
      ]
     },
     "metadata": {
      "needs_background": "light"
     },
     "output_type": "display_data"
    }
   ],
   "source": [
    "for i in range(len(channel.start)):\n",
    "    x=[channel.start[i], channel.end[i]]\n",
    "    print(x)\n",
    "    y= [channel.operator[i], channel.operator[i]]\n",
    "    print(y)\n",
    "    plt.plot(x, y, color='b')\n",
    "    plt.scatter(x, y, color='r')"
   ]
  },
  {
   "cell_type": "code",
   "execution_count": 25,
   "metadata": {},
   "outputs": [
    {
     "name": "stdout",
     "output_type": "stream",
     "text": [
      "[0, 208]\n",
      "[0, 0]\n",
      "[212, 420]\n",
      "[0, 0]\n",
      "[425, 633]\n",
      "[0, 0]\n",
      "[639, 847]\n",
      "[0, 0]\n",
      "[851, 1059]\n",
      "[0, 0]\n"
     ]
    },
    {
     "ename": "IndexError",
     "evalue": "list index out of range",
     "output_type": "error",
     "traceback": [
      "\u001b[1;31m---------------------------------------------------------------------------\u001b[0m",
      "\u001b[1;31mIndexError\u001b[0m                                Traceback (most recent call last)",
      "\u001b[1;32m<ipython-input-25-cbe339d43eb4>\u001b[0m in \u001b[0;36m<module>\u001b[1;34m\u001b[0m\n\u001b[0;32m      1\u001b[0m \u001b[1;32mfor\u001b[0m \u001b[0mi\u001b[0m \u001b[1;32min\u001b[0m \u001b[0mrange\u001b[0m\u001b[1;33m(\u001b[0m\u001b[1;36m10\u001b[0m\u001b[1;33m)\u001b[0m\u001b[1;33m:\u001b[0m\u001b[1;33m\u001b[0m\u001b[1;33m\u001b[0m\u001b[0m\n\u001b[1;32m----> 2\u001b[1;33m     \u001b[0mx\u001b[0m\u001b[1;33m=\u001b[0m\u001b[1;33m[\u001b[0m\u001b[0mchannel\u001b[0m\u001b[1;33m.\u001b[0m\u001b[0mstart\u001b[0m\u001b[1;33m[\u001b[0m\u001b[0mi\u001b[0m\u001b[1;33m]\u001b[0m\u001b[1;33m,\u001b[0m \u001b[0mchannel\u001b[0m\u001b[1;33m.\u001b[0m\u001b[0mend\u001b[0m\u001b[1;33m[\u001b[0m\u001b[0mi\u001b[0m\u001b[1;33m]\u001b[0m\u001b[1;33m]\u001b[0m\u001b[1;33m\u001b[0m\u001b[1;33m\u001b[0m\u001b[0m\n\u001b[0m\u001b[0;32m      3\u001b[0m     \u001b[0mprint\u001b[0m\u001b[1;33m(\u001b[0m\u001b[0mx\u001b[0m\u001b[1;33m)\u001b[0m\u001b[1;33m\u001b[0m\u001b[1;33m\u001b[0m\u001b[0m\n\u001b[0;32m      4\u001b[0m     \u001b[0my\u001b[0m\u001b[1;33m=\u001b[0m \u001b[1;33m[\u001b[0m\u001b[0mchannel\u001b[0m\u001b[1;33m.\u001b[0m\u001b[0moperator\u001b[0m\u001b[1;33m[\u001b[0m\u001b[0mi\u001b[0m\u001b[1;33m]\u001b[0m\u001b[1;33m,\u001b[0m \u001b[0mchannel\u001b[0m\u001b[1;33m.\u001b[0m\u001b[0moperator\u001b[0m\u001b[1;33m[\u001b[0m\u001b[0mi\u001b[0m\u001b[1;33m]\u001b[0m\u001b[1;33m]\u001b[0m\u001b[1;33m\u001b[0m\u001b[1;33m\u001b[0m\u001b[0m\n\u001b[0;32m      5\u001b[0m     \u001b[0mprint\u001b[0m\u001b[1;33m(\u001b[0m\u001b[0my\u001b[0m\u001b[1;33m)\u001b[0m\u001b[1;33m\u001b[0m\u001b[1;33m\u001b[0m\u001b[0m\n",
      "\u001b[1;31mIndexError\u001b[0m: list index out of range"
     ]
    },
    {
     "data": {
      "image/png": "[encoded data removed]",
      "text/plain": [
       "<Figure size 432x288 with 1 Axes>"
      ]
     },
     "metadata": {
      "needs_background": "light"
     },
     "output_type": "display_data"
    }
   ],
   "source": [
    "for i in range(10):\n",
    "    x=[channel.start[i], channel.end[i]]\n",
    "    print(x)\n",
    "    y= [channel.operator[i], channel.operator[i]]\n",
    "    print(y)\n",
    "    plt.plot(x, y, color='b')\n",
    "    plt.scatter(x, y, color='r')"
   ]
  },
  {
   "cell_type": "code",
   "execution_count": null,
   "metadata": {},
   "outputs": [],
   "source": []
  }
 ],
 "metadata": {
  "kernelspec": {
   "display_name": "Python 3",
   "language": "python",
   "name": "python3"
  },
  "language_info": {
   "codemirror_mode": {
    "name": "ipython",
    "version": 3
   },
   "file_extension": ".py",
   "mimetype": "text/x-python",
   "name": "python",
   "nbconvert_exporter": "python",
   "pygments_lexer": "ipython3",
   "version": "3.7.5"
  }
 },
 "nbformat": 4,
 "nbformat_minor": 2
}

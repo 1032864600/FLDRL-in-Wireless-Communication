{
 "cells": [
  {
   "cell_type": "code",
   "execution_count": 1,
   "metadata": {},
   "outputs": [
    {
     "name": "stdout",
     "output_type": "stream",
     "text": [
      "D:\\Develop\\Code\\FLRL\\WIP\\FLDRL-in-Wireless-Communication\\CSMA_DQN\n",
      "D:\\Develop\\Code\\FLRL\\WIP\\FLDRL-in-Wireless-Communication\\CSMA_DQN\\libs\\models\n"
     ]
    }
   ],
   "source": [
    "import _init_paths\n",
    "from libs.node import Node\n",
    "from libs.node import Station\n",
    "from libs.node import StationDcf\n",
    "from libs.channel import Channel\n",
    "import matplotlib.pyplot as plt"
   ]
  },
  {
   "cell_type": "code",
   "execution_count": 2,
   "metadata": {},
   "outputs": [],
   "source": [
    "global_time = 0\n",
    "channel = Channel(global_time, [])"
   ]
  },
  {
   "cell_type": "code",
   "execution_count": 3,
   "metadata": {},
   "outputs": [],
   "source": [
    "station_num = 1\n",
    "data_rate = 6 #Mbps\n",
    "#All the lengeth is a mutible of slot\n",
    "\n",
    "#incule header\n",
    "pkt_len = 1560\n",
    "#us\n",
    "slot_len = 10\n",
    "sifs = 2\n",
    "ack_len = 2 + sifs\n",
    "difs = 4\n",
    "timeout = ack_len\n",
    "\n",
    "frame_len = pkt_len * 8 / slot_len / data_rate\n",
    "stations_list = []\n",
    "total_time = 0"
   ]
  },
  {
   "cell_type": "code",
   "execution_count": 4,
   "metadata": {},
   "outputs": [],
   "source": [
    "for i in range(station_num):\n",
    "    station = StationDcf(i, frame_len, channel, global_time, i, timeout, ack_len, difs, sifs)\n",
    "    stations_list.append(station)"
   ]
  },
  {
   "cell_type": "code",
   "execution_count": 5,
   "metadata": {},
   "outputs": [],
   "source": [
    "for i in range(1000):\n",
    "    for station in stations_list:\n",
    "        station.simulate(global_time)\n",
    "    global_time = global_time + 1\n",
    "    channel.update_state(global_time)"
   ]
  },
  {
   "cell_type": "code",
   "execution_count": 6,
   "metadata": {},
   "outputs": [],
   "source": [
    "for station in stations_list:\n",
    "    total_time += station.total_pkt_time"
   ]
  },
  {
   "cell_type": "code",
   "execution_count": 7,
   "metadata": {},
   "outputs": [],
   "source": [
    "throughput = total_time/channel.time * data_rate * 1500 / 1560"
   ]
  },
  {
   "cell_type": "code",
   "execution_count": 9,
   "metadata": {},
   "outputs": [
    {
     "data": {
      "text/plain": [
       "1040.0"
      ]
     },
     "execution_count": 9,
     "metadata": {},
     "output_type": "execute_result"
    }
   ],
   "source": [
    "total_time"
   ]
  },
  {
   "cell_type": "code",
   "execution_count": 10,
   "metadata": {},
   "outputs": [
    {
     "data": {
      "text/plain": [
       "5.361930294906166"
      ]
     },
     "execution_count": 10,
     "metadata": {},
     "output_type": "execute_result"
    }
   ],
   "source": [
    "throughput"
   ]
  },
  {
   "cell_type": "code",
   "execution_count": 11,
   "metadata": {},
   "outputs": [],
   "source": [
    "total_time_channel_start = 0\n",
    "total_time_channel_end = 0"
   ]
  },
  {
   "cell_type": "code",
   "execution_count": 12,
   "metadata": {},
   "outputs": [
    {
     "data": {
      "text/plain": [
       "5"
      ]
     },
     "execution_count": 12,
     "metadata": {},
     "output_type": "execute_result"
    }
   ],
   "source": [
    "len(channel.start)"
   ]
  },
  {
   "cell_type": "code",
   "execution_count": 13,
   "metadata": {},
   "outputs": [],
   "source": [
    "for i in range(len(channel.start)):\n",
    "    if(i > 0):\n",
    "        if (channel.start[i] == channel.start[i-1]):\n",
    "            continue\n",
    "    if(i < (len(channel.start)-1)):\n",
    "        if(channel.start[i] == channel.start[i+1]):\n",
    "            continue\n",
    "    total_time_channel_start += frame_len\n",
    "    \n",
    "for i in range(len(channel.end)):\n",
    "    if(i > 0):\n",
    "        if (channel.end[i] == channel.end[i-1]):\n",
    "            continue\n",
    "    if(i < (len(channel.start)-1)):\n",
    "        if (channel.end[i] == channel.end[i+1]):\n",
    "            continue\n",
    "    total_time_channel_end += frame_len"
   ]
  },
  {
   "cell_type": "code",
   "execution_count": 14,
   "metadata": {},
   "outputs": [
    {
     "data": {
      "text/plain": [
       "1040.0"
      ]
     },
     "execution_count": 14,
     "metadata": {},
     "output_type": "execute_result"
    }
   ],
   "source": [
    "total_time_channel_end"
   ]
  },
  {
   "cell_type": "code",
   "execution_count": 15,
   "metadata": {
    "scrolled": true
   },
   "outputs": [
    {
     "name": "stdout",
     "output_type": "stream",
     "text": [
      "[16, 224]\n",
      "[0, 0]\n",
      "[229, 437]\n",
      "[0, 0]\n",
      "[449, 657]\n",
      "[0, 0]\n",
      "[680, 888]\n",
      "[0, 0]\n",
      "[906, 1114]\n",
      "[0, 0]\n"
     ]
    },
    {
     "data": {
      "image/png": "[encoded data removed]",
      "text/plain": [
       "<Figure size 432x288 with 1 Axes>"
      ]
     },
     "metadata": {
      "needs_background": "light"
     },
     "output_type": "display_data"
    }
   ],
   "source": [
    "for i in range(len(channel.start)):\n",
    "    x=[channel.start[i], channel.end[i]]\n",
    "    print(x)\n",
    "    y= [channel.operator[i], channel.operator[i]]\n",
    "    print(y)\n",
    "    plt.plot(x, y, color='b')\n",
    "    plt.scatter(x, y, color='r')"
   ]
  },
  {
   "cell_type": "code",
   "execution_count": 15,
   "metadata": {},
   "outputs": [
    {
     "name": "stdout",
     "output_type": "stream",
     "text": [
      "[9, 217]\n",
      "[1, 1]\n"
     ]
    },
    {
     "data": {
      "text/plain": [
       "[<matplotlib.lines.Line2D at 0x26a1af36fc8>]"
      ]
     },
     "execution_count": 15,
     "metadata": {},
     "output_type": "execute_result"
    },
    {
     "data": {
      "image/png": "[encoded data removed]",
      "text/plain": [
       "<Figure size 432x288 with 1 Axes>"
      ]
     },
     "metadata": {
      "needs_background": "light"
     },
     "output_type": "display_data"
    }
   ],
   "source": [
    "x=[channel.start[0],channel.end[0]]\n",
    "print(x)\n",
    "y= [1,1]\n",
    "print(y)\n",
    "plt.plot(x, y)"
   ]
  },
  {
   "cell_type": "code",
   "execution_count": 15,
   "metadata": {},
   "outputs": [
    {
     "data": {
      "text/plain": [
       "[5,\n",
       " 5,\n",
       " 5,\n",
       " 5,\n",
       " 218,\n",
       " 431,\n",
       " 431,\n",
       " 431,\n",
       " 644,\n",
       " 857,\n",
       " 857,\n",
       " 857,\n",
       " 857,\n",
       " 857,\n",
       " 857,\n",
       " 857,\n",
       " 1071,\n",
       " 1071,\n",
       " 1284,\n",
       " 1497,\n",
       " 1497,\n",
       " 1497,\n",
       " 1711,\n",
       " 1711,\n",
       " 1711,\n",
       " 1711,\n",
       " 1711,\n",
       " 1925,\n",
       " 2138,\n",
       " 2138,\n",
       " 2351,\n",
       " 2564,\n",
       " 2564,\n",
       " 2778,\n",
       " 2778,\n",
       " 2992,\n",
       " 2992,\n",
       " 3206,\n",
       " 3206,\n",
       " 3206,\n",
       " 3206,\n",
       " 3420,\n",
       " 3420,\n",
       " 3420,\n",
       " 3635,\n",
       " 3635,\n",
       " 3849,\n",
       " 3849,\n",
       " 3849,\n",
       " 4063,\n",
       " 4063,\n",
       " 4277,\n",
       " 4277,\n",
       " 4277,\n",
       " 4491,\n",
       " 4491,\n",
       " 4491,\n",
       " 4491,\n",
       " 4491,\n",
       " 4705,\n",
       " 4705,\n",
       " 4918,\n",
       " 5131,\n",
       " 5131,\n",
       " 5131,\n",
       " 5345,\n",
       " 5345,\n",
       " 5345,\n",
       " 5345,\n",
       " 5559,\n",
       " 5559,\n",
       " 5559,\n",
       " 5773,\n",
       " 5773,\n",
       " 5773,\n",
       " 5987,\n",
       " 5987,\n",
       " 6201,\n",
       " 6414,\n",
       " 6414,\n",
       " 6414,\n",
       " 6628,\n",
       " 6628,\n",
       " 6628,\n",
       " 6842,\n",
       " 7055,\n",
       " 7055,\n",
       " 7055,\n",
       " 7055,\n",
       " 7268,\n",
       " 7481,\n",
       " 7481,\n",
       " 7695,\n",
       " 7695,\n",
       " 7695,\n",
       " 7695,\n",
       " 7695,\n",
       " 7909,\n",
       " 7909,\n",
       " 7909,\n",
       " 7909,\n",
       " 8123,\n",
       " 8336,\n",
       " 8336,\n",
       " 8336,\n",
       " 8340,\n",
       " 8549,\n",
       " 8763,\n",
       " 8763,\n",
       " 8763,\n",
       " 8978,\n",
       " 8978,\n",
       " 8978,\n",
       " 8978,\n",
       " 9191,\n",
       " 9404,\n",
       " 9404,\n",
       " 9404,\n",
       " 9618,\n",
       " 9618,\n",
       " 9618,\n",
       " 9832,\n",
       " 10045,\n",
       " 10258,\n",
       " 10258,\n",
       " 10258,\n",
       " 10258,\n",
       " 10262,\n",
       " 10476,\n",
       " 10689,\n",
       " 10689,\n",
       " 10689,\n",
       " 10689,\n",
       " 10689,\n",
       " 10904,\n",
       " 10904,\n",
       " 11117,\n",
       " 11330,\n",
       " 11330,\n",
       " 11330,\n",
       " 11544,\n",
       " 11544,\n",
       " 11544,\n",
       " 11758,\n",
       " 11971,\n",
       " 11971,\n",
       " 11971,\n",
       " 12185,\n",
       " 12185,\n",
       " 12399,\n",
       " 12399,\n",
       " 12613,\n",
       " 12826,\n",
       " 12826,\n",
       " 12826,\n",
       " 12826,\n",
       " 12826,\n",
       " 12826,\n",
       " 13039,\n",
       " 13252,\n",
       " 13252,\n",
       " 13252,\n",
       " 13465,\n",
       " 13678,\n",
       " 13891,\n",
       " 13891,\n",
       " 14105,\n",
       " 14318,\n",
       " 14531,\n",
       " 14531,\n",
       " 14531,\n",
       " 14746,\n",
       " 14959,\n",
       " 14959,\n",
       " 14959,\n",
       " 14959,\n",
       " 15173,\n",
       " 15386,\n",
       " 15386,\n",
       " 15386,\n",
       " 15386,\n",
       " 15600,\n",
       " 15600,\n",
       " 15600,\n",
       " 15814,\n",
       " 16027,\n",
       " 16027,\n",
       " 16241,\n",
       " 16241,\n",
       " 16455,\n",
       " 16455,\n",
       " 16455,\n",
       " 16455,\n",
       " 16670,\n",
       " 16670,\n",
       " 16883,\n",
       " 17096,\n",
       " 17309,\n",
       " 17309,\n",
       " 17523,\n",
       " 17523,\n",
       " 17523,\n",
       " 17737,\n",
       " 17737,\n",
       " 17951,\n",
       " 17951,\n",
       " 18165,\n",
       " 18165,\n",
       " 18379,\n",
       " 18592,\n",
       " 18805,\n",
       " 18805,\n",
       " 18805,\n",
       " 18805,\n",
       " 18805,\n",
       " 19018,\n",
       " 19231,\n",
       " 19231,\n",
       " 19231,\n",
       " 19445,\n",
       " 19658,\n",
       " 19658,\n",
       " 19658,\n",
       " 19872,\n",
       " 19872,\n",
       " 19872]"
      ]
     },
     "execution_count": 15,
     "metadata": {},
     "output_type": "execute_result"
    }
   ],
   "source": [
    "channel.start"
   ]
  },
  {
   "cell_type": "code",
   "execution_count": 16,
   "metadata": {},
   "outputs": [
    {
     "data": {
      "text/plain": [
       "208.0"
      ]
     },
     "execution_count": 16,
     "metadata": {},
     "output_type": "execute_result"
    }
   ],
   "source": [
    "frame_len"
   ]
  },
  {
   "cell_type": "code",
   "execution_count": 16,
   "metadata": {},
   "outputs": [
    {
     "data": {
      "text/plain": [
       "[['IDLE', 0, 'null'],\n",
       " ['IDLE', 0, 'null'],\n",
       " ['IDLE', 0, 'null'],\n",
       " ['IDLE', 0, 'null'],\n",
       " ['IDLE', 0, 'null'],\n",
       " ['IDLE', 0, 'null'],\n",
       " ['IDLE', 0, 'null'],\n",
       " ['IDLE', 0, 'null'],\n",
       " ['IDLE', 0, 'null'],\n",
       " ['IDLE', 0, 'null'],\n",
       " ['IDLE', 0, 'null'],\n",
       " ['IDLE', 0, 'null'],\n",
       " ['IDLE', 1, 'ACK'],\n",
       " ['BACK', 1, 'unknow'],\n",
       " ['BUSY', 0, 'null'],\n",
       " ['IDLE', 0, 'null'],\n",
       " ['IDLE', 0, 'null'],\n",
       " ['IDLE', 0, 'null'],\n",
       " ['IDLE', 1, 'unknow'],\n",
       " ['BUSY', 0, 'null'],\n",
       " ['IDLE', 0, 'null'],\n",
       " ['IDLE', 0, 'null'],\n",
       " ['IDLE', 0, 'null'],\n",
       " ['IDLE', 0, 'null'],\n",
       " ['IDLE', 0, 'null'],\n",
       " ['IDLE', 0, 'null'],\n",
       " ['IDLE', 0, 'null'],\n",
       " ['IDLE', 0, 'null'],\n",
       " ['IDLE', 0, 'null'],\n",
       " ['IDLE', 0, 'null'],\n",
       " ['IDLE', 0, 'null'],\n",
       " ['IDLE', 0, 'null'],\n",
       " ['IDLE', 0, 'null'],\n",
       " ['IDLE', 0, 'null'],\n",
       " ['IDLE', 1, 'unknow'],\n",
       " ['BUSY', 0, 'null'],\n",
       " ['IDLE', 0, 'null'],\n",
       " ['IDLE', 0, 'null'],\n",
       " ['IDLE', 0, 'null'],\n",
       " ['IDLE', 0, 'null'],\n",
       " ['IDLE', 0, 'null'],\n",
       " ['IDLE', 0, 'null'],\n",
       " ['IDLE', 0, 'null'],\n",
       " ['IDLE', 0, 'null'],\n",
       " ['IDLE', 0, 'null'],\n",
       " ['IDLE', 1, 'unknow']]"
      ]
     },
     "execution_count": 16,
     "metadata": {},
     "output_type": "execute_result"
    }
   ],
   "source": [
    "station.history"
   ]
  },
  {
   "cell_type": "code",
   "execution_count": null,
   "metadata": {},
   "outputs": [],
   "source": []
  }
 ],
 "metadata": {
  "kernelspec": {
   "display_name": "Python 3",
   "language": "python",
   "name": "python3"
  },
  "language_info": {
   "codemirror_mode": {
    "name": "ipython",
    "version": 3
   },
   "file_extension": ".py",
   "mimetype": "text/x-python",
   "name": "python",
   "nbconvert_exporter": "python",
   "pygments_lexer": "ipython3",
   "version": "3.7.5"
  }
 },
 "nbformat": 4,
 "nbformat_minor": 2
}
